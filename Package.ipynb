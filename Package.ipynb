{
 "cells": [
  {
   "cell_type": "code",
   "execution_count": 1,
   "id": "2e61ca8c",
   "metadata": {},
   "outputs": [],
   "source": [
    "import doctest"
   ]
  },
  {
   "cell_type": "code",
   "execution_count": 2,
   "id": "50262821",
   "metadata": {},
   "outputs": [],
   "source": [
    "def gcd0(p: int, q: int) -> int:\n",
    "    \"\"\"Calculate greatest common divider of two numbers with Brute force \n",
    "    algorithm.\n",
    "    \n",
    "    Args:\n",
    "        p (int): integer input\n",
    "        q (int): integer input\n",
    "    Returns:\n",
    "        int: greatest common divider, if p or q is 0, \n",
    "        then return non-zero one\n",
    "    \n",
    "    >>> gcd0(6, 4)\n",
    "    2\n",
    "    >>> gcd0(7, 5)\n",
    "    1\n",
    "    >>> gcd0(10, 5)\n",
    "    5\n",
    "    >>> gcd0(60, 24)\n",
    "    12\n",
    "    >>> gcd0(0, 8)  # TODO : this cannot pass\n",
    "    8\n",
    "    \"\"\"\n",
    "    t = 1 # if p is 0 the for loop will not execute. directly return c\n",
    "    # i is all the possible common divider of p and q\n",
    "    for i in range(1, (min(p,  q) + 1)):  \n",
    "    # +1 will include the minimal int such as 5 in (10, 5)\n",
    "        if ((p % i) == 0) and ((q % i) == 0):\n",
    "            if t < i:\n",
    "                t = i\n",
    "    return t"
   ]
  },
  {
   "cell_type": "code",
   "execution_count": 3,
   "id": "308dc518",
   "metadata": {},
   "outputs": [
    {
     "name": "stdout",
     "output_type": "stream",
     "text": [
      "**********************************************************************\n",
      "File \"__main__\", line 20, in __main__.gcd0\n",
      "Failed example:\n",
      "    gcd0(0, 8)  # TODO : this cannot pass\n",
      "Expected:\n",
      "    8\n",
      "Got:\n",
      "    1\n",
      "**********************************************************************\n",
      "1 items had failures:\n",
      "   1 of   5 in __main__.gcd0\n",
      "***Test Failed*** 1 failures.\n"
     ]
    }
   ],
   "source": [
    "if __name__ == \"__main__\":\n",
    "    doctest.testmod()"
   ]
  },
  {
   "cell_type": "code",
   "execution_count": null,
   "id": "88d7775c",
   "metadata": {},
   "outputs": [],
   "source": []
  }
 ],
 "metadata": {
  "kernelspec": {
   "display_name": "Python 3 (ipykernel)",
   "language": "python",
   "name": "python3"
  },
  "language_info": {
   "codemirror_mode": {
    "name": "ipython",
    "version": 3
   },
   "file_extension": ".py",
   "mimetype": "text/x-python",
   "name": "python",
   "nbconvert_exporter": "python",
   "pygments_lexer": "ipython3",
   "version": "3.9.12"
  }
 },
 "nbformat": 4,
 "nbformat_minor": 5
}
